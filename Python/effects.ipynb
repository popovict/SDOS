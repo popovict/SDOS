{
 "cells": [
  {
   "cell_type": "code",
   "execution_count": null,
   "metadata": {},
   "outputs": [],
   "source": [
    "\n",
    "Ukljucivanje potrebnih biblioteka i modula."
   ]
  },
  {
   "cell_type": "code",
   "execution_count": null,
   "metadata": {},
   "outputs": [],
   "source": [
    "import numpy as np\n",
    "import matplotlib.pyplot as plt\n",
    "import scipy.io\n",
    "import wave\n",
    "import struct\n",
    "from scipy.io import wavfile\n",
    "from IPython.display import Audio\n"
   ]
  },
  {
   "cell_type": "code",
   "execution_count": null,
   "metadata": {},
   "outputs": [],
   "source": [
    "Implementacija funkcija za prikazivanje audio signala (stereo i mono)."
   ]
  },
  {
   "cell_type": "code",
   "execution_count": null,
   "metadata": {},
   "outputs": [],
   "source": [
    "\n",
    "def plot_2D_signal(data, title, xlabel, ylabel, figsize):\n",
    "    plt.figure(num=None, figsize=figsize, dpi=100, facecolor='w', edgecolor='k')\n",
    "    t = np.linspace(0., duration, data.shape[0])\n",
    "    plt.plot(t, data[:, 0], label=\"Kanal L\")\n",
    "    plt.plot(t, data[:, 1], label=\"Kanal R\")\n",
    "    plt.legend()\n",
    "    plt.title(title)\n",
    "    plt.xlabel(xlabel)\n",
    "    plt.ylabel(ylabel)\n",
    "    plt.show()\n",
    "\n",
    "def plot_1D_signal(data, title, xlabel, ylabel, figsize):\n",
    "    plt.figure(num=None, figsize=figsize, dpi=100, facecolor='w', edgecolor='k')\n",
    "    t = np.arange(len(data)) / samplerate\n",
    "    plt.plot(t, data)\n",
    "    plt.title(title)\n",
    "    plt.xlabel(xlabel)\n",
    "    plt.ylabel(ylabel)\n",
    "    plt.show()"
   ]
  },
  {
   "cell_type": "code",
   "execution_count": null,
   "metadata": {},
   "outputs": [],
   "source": [
    "Ucitavanje audio signala i ispis njegovih karakteristika, prikaz i reprodukcija."
   ]
  },
  {
   "cell_type": "code",
   "execution_count": null,
   "metadata": {},
   "outputs": [],
   "source": [
    "sound_file = './guitar_sound.wav'\n",
    "samplerate, source_audio = wavfile.read(sound_file)\n",
    "print(f\"Sample rate of audio: {samplerate}Hz\")\n",
    "print(f\"Number of channels = {source_audio.shape[1]}\")\n",
    "duration = source_audio.shape[0] / samplerate\n",
    "print(f\"Duration = {duration}s\")\n",
    "Audio('guitar_sound.wav', samplerate, autoplay=True)\n",
    "plot_2D_signal(source_audio, \"Prikaz originalnog audio signala u vremenskom domenu\", \"Vrijeme [s]\", \"Amplituda\", (20, 5))"
   ]
  }
 ],
 "metadata": {
  "language_info": {
   "name": "python"
  }
 },
 "nbformat": 4,
 "nbformat_minor": 2
}
